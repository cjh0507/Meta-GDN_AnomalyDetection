{
 "cells": [
  {
   "cell_type": "code",
   "execution_count": 1,
   "metadata": {},
   "outputs": [],
   "source": [
    "import random\n",
    "import scipy.io as sio\n",
    "import glob\n",
    "import numpy as np\n",
    "import torch"
   ]
  },
  {
   "cell_type": "code",
   "execution_count": 34,
   "metadata": {},
   "outputs": [
    {
     "data": {
      "text/plain": [
       "['a', 'c', 'e', 'b', 'd']"
      ]
     },
     "execution_count": 34,
     "metadata": {},
     "output_type": "execute_result"
    }
   ],
   "source": [
    "random.sample([\"a\", \"b\", \"c\", \"d\", \"e\"], 5)"
   ]
  },
  {
   "cell_type": "code",
   "execution_count": 39,
   "metadata": {},
   "outputs": [
    {
     "data": {
      "text/plain": [
       "['graphs/pubmed\\\\Pubmed_1.mat',\n",
       " 'graphs/pubmed\\\\Pubmed_0.mat',\n",
       " 'graphs/pubmed\\\\Pubmed_3.mat',\n",
       " 'graphs/pubmed\\\\Pubmed_2.mat',\n",
       " 'graphs/pubmed\\\\Pubmed_4.mat']"
      ]
     },
     "execution_count": 39,
     "metadata": {},
     "output_type": "execute_result"
    }
   ],
   "source": [
    "l = glob.glob(\"graphs/{}/*.mat\".format(\"pubmed\"))\n",
    "f_l = random.sample(l, 5)\n",
    "f_l"
   ]
  },
  {
   "cell_type": "code",
   "execution_count": 53,
   "metadata": {},
   "outputs": [],
   "source": [
    "data = sio.loadmat(f_l[0])\n",
    "labels = data[\"Label\"]"
   ]
  },
  {
   "cell_type": "code",
   "execution_count": 57,
   "metadata": {},
   "outputs": [
    {
     "data": {
      "text/plain": [
       "array([   1,    7,   37,   58,   98,  109,  126,  183,  188,  223,  224,\n",
       "        237,  249,  255,  294,  311,  314,  335,  361,  393,  400,  441,\n",
       "        456,  480,  487,  508,  537,  541,  548,  556,  563,  605,  607,\n",
       "        629,  673,  674,  685,  694,  733,  740,  768,  772,  791,  800,\n",
       "        810,  833,  849,  863,  891,  898,  933,  954,  974,  985,  990,\n",
       "       1022, 1027, 1036, 1037, 1096, 1138, 1157, 1178, 1226, 1232, 1233,\n",
       "       1239, 1245, 1267, 1276, 1316, 1321, 1335, 1336, 1377, 1398, 1401,\n",
       "       1474, 1476, 1477, 1558, 1603, 1620, 1669, 1673, 1688, 1774, 1775,\n",
       "       1821, 1838, 1847, 1874, 1888, 1979, 2019, 2021, 2023, 2042, 2067,\n",
       "       2079, 2085, 2136, 2145, 2153, 2199, 2206, 2218, 2223, 2228, 2297,\n",
       "       2321, 2331, 2336, 2339, 2340, 2341, 2361, 2392, 2399, 2408, 2409,\n",
       "       2410, 2424, 2466, 2477, 2485, 2535, 2577, 2583, 2589, 2597, 2603,\n",
       "       2619, 2624, 2629, 2651, 2675, 2768, 2815, 2823, 2826, 2838, 2850,\n",
       "       2876, 2895, 2979, 3023, 3049, 3080, 3085, 3091, 3098, 3140, 3142,\n",
       "       3160, 3171, 3256, 3265, 3287, 3291, 3327, 3384, 3418, 3450, 3459,\n",
       "       3519, 3546, 3561, 3585, 3591, 3601, 3604, 3623, 3630, 3639, 3643,\n",
       "       3663, 3678, 3687, 3689, 3732, 3738, 3743, 3766, 3769, 3799, 3804],\n",
       "      dtype=int64)"
      ]
     },
     "execution_count": 57,
     "metadata": {},
     "output_type": "execute_result"
    }
   ],
   "source": [
    "np.nonzero(labels == 1)[0]"
   ]
  },
  {
   "cell_type": "code",
   "execution_count": 3,
   "metadata": {},
   "outputs": [
    {
     "data": {
      "text/plain": [
       "torch.Size([512, 32])"
      ]
     },
     "execution_count": 3,
     "metadata": {},
     "output_type": "execute_result"
    }
   ],
   "source": [
    "param = [512, 32]\n",
    "torch.ones(*param).shape"
   ]
  },
  {
   "cell_type": "code",
   "execution_count": 4,
   "metadata": {},
   "outputs": [
    {
     "name": "stdout",
     "output_type": "stream",
     "text": [
      "linear:(in:32, out:512)\n"
     ]
    }
   ],
   "source": [
    "print('linear:(in:%d, out:%d)'%(param[1], param[0]))"
   ]
  }
 ],
 "metadata": {
  "kernelspec": {
   "display_name": "base",
   "language": "python",
   "name": "python3"
  },
  "language_info": {
   "codemirror_mode": {
    "name": "ipython",
    "version": 3
   },
   "file_extension": ".py",
   "mimetype": "text/x-python",
   "name": "python",
   "nbconvert_exporter": "python",
   "pygments_lexer": "ipython3",
   "version": "3.9.13"
  },
  "orig_nbformat": 4,
  "vscode": {
   "interpreter": {
    "hash": "1d865b124aa086e2a903bd7d7887726fd6025c05db60651326f12886d7cad371"
   }
  }
 },
 "nbformat": 4,
 "nbformat_minor": 2
}
